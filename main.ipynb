{
 "cells": [
  {
   "cell_type": "code",
   "execution_count": 3,
   "id": "4b1ad8e9",
   "metadata": {},
   "outputs": [
    {
     "name": "stderr",
     "output_type": "stream",
     "text": [
      "/var/folders/bh/ws9sfd0573s8xjtb61qbklnh0000gn/T/ipykernel_27206/2518515666.py:8: LangChainDeprecationWarning: The class `TavilySearchResults` was deprecated in LangChain 0.3.25 and will be removed in 1.0. An updated version of the class exists in the :class:`~langchain-tavily package and should be used instead. To use it run `pip install -U :class:`~langchain-tavily` and import as `from :class:`~langchain_tavily import TavilySearch``.\n",
      "  web_search_tool = TavilySearchResults(k=3)\n"
     ]
    }
   ],
   "source": [
    "import os\n",
    "import dotenv\n",
    "\n",
    "dotenv.load_dotenv()\n",
    "os.environ[\"TOKENIZERS_PARALLELISM\"] = 'true'\n",
    "\n",
    "from langchain_community.tools.tavily_search import TavilySearchResults\n",
    "web_search_tool = TavilySearchResults(k=3)"
   ]
  },
  {
   "cell_type": "code",
   "execution_count": 4,
   "id": "81d32a26",
   "metadata": {},
   "outputs": [],
   "source": [
    "from langchain_ollama import ChatOllama\n",
    "local_llm = 'llama3.2:3b'\n",
    "llm = ChatOllama(model=local_llm, temperature=0)\n",
    "llm_json_mode = ChatOllama(model=local_llm, temperature=0, format='json')"
   ]
  },
  {
   "cell_type": "code",
   "execution_count": 5,
   "id": "28f5595a",
   "metadata": {},
   "outputs": [
    {
     "name": "stderr",
     "output_type": "stream",
     "text": [
      "USER_AGENT environment variable not set, consider setting it to identify your requests.\n",
      "Embedding texts: 100%|██████████| 28/28 [00:03<00:00,  7.85inputs/s]\n"
     ]
    }
   ],
   "source": [
    "from langchain.text_splitter import RecursiveCharacterTextSplitter\n",
    "from langchain_community.document_loaders import WebBaseLoader\n",
    "from langchain_community.vectorstores import SKLearnVectorStore\n",
    "from langchain_nomic.embeddings import NomicEmbeddings\n",
    "\n",
    "urls = [\n",
    "    \"https://lilianweng.github.io/posts/2023-06-23-agent/\",\n",
    "    \"https://lilianweng.github.io/posts/2023-03-15-prompt-engineering/\",\n",
    "]\n",
    "\n",
    "docs = [WebBaseLoader(url).load() for url in urls]\n",
    "docs_list = [item for sublist in docs for item in sublist]\n",
    "\n",
    "text_splitter = RecursiveCharacterTextSplitter.from_tiktoken_encoder(\n",
    "    chunk_size=1000, chunk_overlap=200\n",
    ")\n",
    "doc_splits = text_splitter.split_documents(docs_list)\n",
    "\n",
    "vectorstore = SKLearnVectorStore.from_documents(\n",
    "    documents=doc_splits,\n",
    "    embedding=NomicEmbeddings(model='nomic-embed-text-v1.5', inference_mode='local'),\n",
    ")\n",
    "\n",
    "retriever = vectorstore.as_retriever(k=3)"
   ]
  },
  {
   "cell_type": "code",
   "execution_count": 6,
   "id": "9a9c993a",
   "metadata": {},
   "outputs": [
    {
     "data": {
      "text/plain": [
       "{'datasource': 'vectorstore'}"
      ]
     },
     "execution_count": 6,
     "metadata": {},
     "output_type": "execute_result"
    }
   ],
   "source": [
    "import json\n",
    "from langchain_core.messages import HumanMessage, SystemMessage\n",
    "\n",
    "router_instructions = \"\"\"You are an expert at routing a user question to a vectorstore or web search\n",
    "\n",
    "The vector store contains documents about agents and prompt engineering\n",
    "\n",
    "Use the vectorstore for these topics. For all else use web search\n",
    "\n",
    "Return a JSON with a single key, datasource, that is 'websearch' or 'vectorstore' depending on the question.\"\"\"\n",
    "\n",
    "question = [HumanMessage(\"What are the types of agent memory\")]\n",
    "test_vector_store = llm_json_mode.invoke([SystemMessage(content=router_instructions)] + question)\n",
    "json.loads(test_vector_store.content)"
   ]
  },
  {
   "cell_type": "code",
   "execution_count": 7,
   "id": "d23ab6d9",
   "metadata": {},
   "outputs": [
    {
     "name": "stderr",
     "output_type": "stream",
     "text": [
      "Embedding texts: 100%|██████████| 1/1 [00:00<00:00, 13.49inputs/s]\n"
     ]
    },
    {
     "data": {
      "text/plain": [
       "{'binary_score': 'yes'}"
      ]
     },
     "execution_count": 7,
     "metadata": {},
     "output_type": "execute_result"
    }
   ],
   "source": [
    "doc_grader_instructions = \"\"\"You are a grader assessing the relevance of a retrieved document to a user question\n",
    "\n",
    "If the document contains keyword(s) or semantic meaning related to the question, grade it as relevant\"\"\"\n",
    "\n",
    "doc_grader_prompt = \"\"\"Here is the retrieved document: \\n\\n {document} \\n\\n Here is the user question: \\n\\n {question}.\n",
    "\n",
    "Think carefully and objectively assess whether the document contains at least some information relevant to the question.\n",
    "\n",
    "Return a JSON with a single key, binary_score, that is 'yes' or 'no' to indicate whether the document contains at least some information relevant to the quesiton\"\"\"\n",
    "\n",
    "question = \"What is chain of thought prompting\"\n",
    "docs = retriever.invoke(question)\n",
    "doc_txt = docs[1].page_content\n",
    "doc_grader_prompt_formatted = doc_grader_prompt.format(document=doc_txt, question=question)\n",
    "result = llm_json_mode.invoke([SystemMessage(content=doc_grader_instructions)] + [HumanMessage(content=doc_grader_prompt_formatted)])\n",
    "json.loads(result.content)"
   ]
  },
  {
   "cell_type": "code",
   "execution_count": 8,
   "id": "5f5272c3",
   "metadata": {},
   "outputs": [
    {
     "name": "stderr",
     "output_type": "stream",
     "text": [
      "Embedding texts: 100%|██████████| 1/1 [00:00<00:00, 47.90inputs/s]\n"
     ]
    },
    {
     "name": "stdout",
     "output_type": "stream",
     "text": [
      "Chain-of-Thought (CoT) prompting generates a sequence of short sentences to describe reasoning logics step by step, known as reasoning chains or rationales, to eventually lead to the final answer. This technique is particularly beneficial for complicated reasoning tasks, where large models with more than 50B parameters can benefit from it. CoT prompts can be few-shot or zero-shot, and they have been shown to improve performance on various NLP tasks, including question-answering and natural language inference.\n"
     ]
    }
   ],
   "source": [
    "rag_prompt = \"\"\"You are an assistant for question answering tasks\n",
    "\n",
    "here is the context to use to answer the users question: \\n\\n {context}\n",
    "\n",
    "think carefully about the above context.\n",
    "\n",
    "Now, review the user question: \\n\\n {question}\n",
    "\n",
    "Provide an answer to this question using only the above context\n",
    "\n",
    "Use three sentences maximum and keep the answers concise\n",
    "\n",
    "Answer:\"\"\"\n",
    "\n",
    "def format_docs(docs):\n",
    "    return \"\\n\\n\".join(doc.page_content for doc in docs)\n",
    "\n",
    "docs = retriever.invoke(question)\n",
    "docs_txt = format_docs(docs)\n",
    "rag_prompt_formatted = rag_prompt.format(context=docs_txt, question=question)\n",
    "generation = llm.invoke([HumanMessage(content=rag_prompt_formatted)])\n",
    "print(generation.content)"
   ]
  },
  {
   "cell_type": "code",
   "execution_count": 9,
   "id": "eb849daa",
   "metadata": {},
   "outputs": [
    {
     "data": {
      "text/plain": [
       "{'binary_score': 'yes',\n",
       " 'explanation': 'The student answer is grounded in the facts. The definition of Chain-of-Thought (CoT) prompting from the provided text states that it generates a sequence of short sentences to describe reasoning logics step by step, known as reasoning chains or rationales, to eventually lead to the final answer. This technique is particularly beneficial for complicated reasoning tasks, where large models with more than 50B parameters can benefit from it. The student answer accurately describes this concept and its benefits, making it a correct representation of the facts.'}"
      ]
     },
     "execution_count": 9,
     "metadata": {},
     "output_type": "execute_result"
    }
   ],
   "source": [
    "hallucination_grader_instructions = \"\"\"You are a teacher grading a quiz\n",
    "\n",
    "You will be given FACTS and a STUDENT ANSWER\n",
    "\n",
    "Here is the criteria to follow\n",
    "\n",
    "(1) Ensure that the STUDENT ANSWER is grounded in the FACTS\n",
    "\n",
    "(2) Ensure that the STUDENT ANSWER does not contain \"hallucinated\" information outside the scope of the FACTS\n",
    "\n",
    "Score:\n",
    "\n",
    "A score of yes means that the student's answer meets all of the criteria. This is the best score\n",
    "\n",
    "A score of no mean that the student's answer fails to meet all of the criteria. This is the lowest score you can give\n",
    "\n",
    "Explain your reasoning in a step by step manner to ensure that your reasoning and conclusion are correct\n",
    "\n",
    "Avoid simply stating the correct answer\n",
    "\n",
    "You are not grading how accurate the student answer is, only if it meets the above criteria, which is to ensure that the STUDENT ANSWER comes only from the FACTS\n",
    "\n",
    "Do not grade 'no' if the STUDENT ANSWER is incorrect, only grade no if the answer does not come from the FACTS.\n",
    "\n",
    "Grade 'yes' if the STUDENT ANSWER is fully grounded in the FACTS, regardless of factual accuracy\"\"\"\n",
    "\n",
    "hallucination_grader_prompt = \"\"\"FACTS: \\n\\n {documents} \\n\\n STUDENT ANSWER: {generation}\n",
    "\n",
    "return a JSON with two keys, binary_score is 'yes' or 'no' score to grade whether the STUDENT ANSWER is grounded in FACTS, and a key, explanation, which contains an explanation of the score\"\"\"\n",
    "\n",
    "hallucination_grader_prompt_formatted = hallucination_grader_prompt.format(documents=docs_txt, generation=generation)\n",
    "result = llm_json_mode.invoke([SystemMessage(content=hallucination_grader_instructions)] + [HumanMessage(content=hallucination_grader_prompt_formatted)])\n",
    "json.loads(result.content)"
   ]
  },
  {
   "cell_type": "code",
   "execution_count": 10,
   "id": "12cec81e",
   "metadata": {},
   "outputs": [
    {
     "data": {
      "text/plain": [
       "{'binary_score': 'yes',\n",
       " 'explanation': [\"The student's answer mentions two specific vision models: Llama 3.2 11B Vision Instruct and Llama 3.2 90B Vision Instruct, which are indeed part of the Llama 3.2 release.\",\n",
       "  'The student also correctly states that these models are available on Azure AI Model Catalog via managed compute and that they replace the older text-only Llama 3.1 models.',\n",
       "  \"Additionally, the student provides context about Meta's first foray into multimodal AI and compares these models to other visual reasoning models like Claude 3 Haiku and GPT-4o mini from Anthropic and OpenAI respectively.\",\n",
       "  'However, it is worth noting that the student does not explicitly state that these are the only vision models released as part of Llama 3.2, which could be considered a minor omission.',\n",
       "  \"Overall, the student's answer provides sufficient information to address the question and meets most of the criteria.\"]}"
      ]
     },
     "execution_count": 10,
     "metadata": {},
     "output_type": "execute_result"
    }
   ],
   "source": [
    "final_answer_grader_instructions = \"\"\"You are a teacher grading a quiz\n",
    "\n",
    "You will be given a QUESTION and a STUDENT ANSWER\n",
    "\n",
    "Here is the criteria to follow\n",
    "\n",
    "(1) Ensure that the STUDENT ANSWER helps to answer the QUESTION\n",
    "\n",
    "Score:\n",
    "\n",
    "A score of yes means that the student's answer meets all of the criteria. This is the best score\n",
    "\n",
    "A score of no mean that the student's answer fails to meet all of the criteria. This is the lowest score you can give\n",
    "\n",
    "Explain your reasoning in a step by step manner to ensure that your reasoning and conclusion are correct\n",
    "\n",
    "Avoid simply stating the correct answer\n",
    "\"\"\"\n",
    "\n",
    "final_answer_grader_prompt = \"\"\"QUESTION: \\n\\n {question} \\n\\n STUDENT ANSWER: {generation}\n",
    "\n",
    "return a JSON with two keys, binary_score is 'yes' or 'no' score to grade whether the STUDENT ANSWER helps to answer the QUESTION and meets the criteria, and a key, explanation, which contains an explanation of the score\"\"\"\n",
    "\n",
    "question = \"What are the vision models released today as part of Llama 3.2?\"\n",
    "answer = \"The Llama 3.2 models released today include two vision models: Llama 3.2 11B Vision Instruct and Llama 3.2 90B Vision Instruct, which are available on Azure AI Model Catalog via managed compute. These models are part of Meta's first foray into multimodal AI and rival closed models like Anthropic's Claude 3 Haiku and OpenAI's GPT-4o mini in visual reasoning. They replace the older text-only Llama 3.1 models.\"\n",
    "\n",
    "final_answer_grader_prompt_formatted = final_answer_grader_prompt.format(question=question, generation=answer)\n",
    "result = llm_json_mode.invoke([SystemMessage(content=final_answer_grader_instructions)] + [HumanMessage(content=final_answer_grader_prompt_formatted)])\n",
    "json.loads(result.content)\n"
   ]
  },
  {
   "cell_type": "code",
   "execution_count": 11,
   "id": "a429d63a",
   "metadata": {},
   "outputs": [],
   "source": [
    "import operator\n",
    "from typing_extensions import TypedDict\n",
    "from typing import List, Annotated\n",
    "\n",
    "class GraphState(TypedDict):\n",
    "    question: str # user quesiton\n",
    "    generation: str # LLM answer\n",
    "    web_search: str # binary decision to run web search\n",
    "    max_retries: int # retry depth max for answer generation\n",
    "    answers: int # number of answers generated\n",
    "    loop_step: Annotated[int, operator.add]\n",
    "    documents: List[str]"
   ]
  },
  {
   "cell_type": "code",
   "execution_count": 12,
   "id": "b48483f1",
   "metadata": {},
   "outputs": [],
   "source": [
    "from langchain.schema import Document\n",
    "from langgraph.graph import END\n",
    "\n",
    "def retrieve(state):\n",
    "    print(\"--RETRIEVING--\")\n",
    "    question = state[\"question\"]\n",
    "    docs = retriever.invoke(question)\n",
    "    \n",
    "    return {\"documents\": docs}\n",
    "\n",
    "def generate(state):\n",
    "    print(\"--GENERATING--\")\n",
    "    question = state[\"question\"]\n",
    "    documents = state[\"documents\"]\n",
    "    loop_step = state.get(\"loop_step\", 0)\n",
    "    \n",
    "    rag_prompt_formatted = rag_prompt.format(context=documents, question=question)\n",
    "    generation = llm.invoke([HumanMessage(content=rag_prompt_formatted)])\n",
    "    return {\"generation\": generation, \"loop_step\": loop_step+1}\n",
    "\n",
    "def grade_documents(state):\n",
    "    print(\"--GRADING DOCUMENTS--\")\n",
    "    documents = state[\"documents\"]\n",
    "    question = state[\"question\"]\n",
    "    \n",
    "    filtered_docs = []\n",
    "    web_search_flag=\"no\"\n",
    "    for document in documents:\n",
    "        doc_grader_prompt_formatted = doc_grader_prompt.format(document=document, question=question)\n",
    "        result = llm_json_mode.invoke([SystemMessage(content=doc_grader_instructions)] + [HumanMessage(content=doc_grader_prompt_formatted)])\n",
    "        grade = json.loads(result.content)[\"binary_score\"]\n",
    "        \n",
    "        if grade.lower() == \"yes\":\n",
    "            print(\"--DOCUMENT FOUND RELEVANT--\")\n",
    "            filtered_docs.append(document)\n",
    "            \n",
    "        else:\n",
    "            print(\"--DOCUMENT FOUND IRRELEVANT--\")\n",
    "            web_search_flag = 'yes'\n",
    "    \n",
    "    return {\"documents\": filtered_docs, \"web_search\": web_search_flag}\n",
    "    \n",
    "def web_search(state):\n",
    "    print(\"--WEB SEARCH--\")\n",
    "    \n",
    "    question = state[\"question\"]\n",
    "    documents = state[\"documents\"]    \n",
    "    \n",
    "    docs = web_search_tool.invoke({\"query\": question})\n",
    "    web_results = \"\\n\".join(document[\"content\"] for document in docs)\n",
    "    web_results = Document(page_content=web_results)\n",
    "    documents.append(web_results)\n",
    "    \n",
    "    return {\"documents\": documents}\n",
    "\n",
    "def route_question(state):\n",
    "    print(\"--ROUTING--\")\n",
    "    question = [HumanMessage(state[\"question\"])]\n",
    "    test_vector_store = llm_json_mode.invoke([SystemMessage(content=router_instructions)] + question)\n",
    "    source = json.loads(test_vector_store.content)['datasource']\n",
    "    \n",
    "    print(f\"--ROUTING TO {source}\")\n",
    "    return source\n",
    "\n",
    "def decide_to_generate(state):\n",
    "    print(\"--DECIDING TO GENERATE--\")\n",
    "    \n",
    "    question = state[\"question\"]\n",
    "    documents = state[\"documents\"]\n",
    "    web_search_flag = state[\"web_search\"]\n",
    "    \n",
    "    if web_search_flag == 'yes':\n",
    "        print(\"--NOT ALL DOCUMENTS RELEVANT: ROUTING TO WEBSEARCH--\")\n",
    "        return \"websearch\"\n",
    "    else:\n",
    "        print(\"--ALL DOCUMENTS RELEVANT: GENERATING CONTENT\")\n",
    "        return \"generate\"\n",
    "    \n",
    "def grade_generation_and_check_hallucinations(state):\n",
    "    documents = state[\"documents\"]\n",
    "    question = state[\"question\"]\n",
    "    generation = state[\"generation\"]\n",
    "    max_retries = state.get(\"max_retries\", 3)\n",
    "    loop_step = state[\"loop_step\"]\n",
    "    \n",
    "    hallucination_grader_prompt_formatted = hallucination_grader_prompt.format(documents=documents, generation=generation)\n",
    "    result = llm_json_mode.invoke([SystemMessage(content=hallucination_grader_instructions)] + [HumanMessage(content=hallucination_grader_prompt_formatted)])\n",
    "    grade = json.loads(result.content)['binary_score']\n",
    "    \n",
    "    if grade.lower() == 'yes':\n",
    "        print(\"--GROUNDED IN DOCUMENTS--\")\n",
    "        \n",
    "        final_answer_grader_prompt_formatted = final_answer_grader_prompt.format(question=question, generation=generation)\n",
    "        result = llm_json_mode.invoke([SystemMessage(content=final_answer_grader_instructions)] + [HumanMessage(content=final_answer_grader_prompt_formatted)])\n",
    "        grade = json.loads(result.content)['binary_score']\n",
    "        \n",
    "        if grade.lower() == \"yes\":\n",
    "            print(\"--USEFUL--\")\n",
    "            return \"useful\"\n",
    "        elif loop_step <= max_retries:\n",
    "            print(\"--NOT USEFUL\")\n",
    "            return \"not useful\"\n",
    "        else:\n",
    "            print(\"--MAX RETRIES REACHED--\")\n",
    "            return \"max retries\"\n",
    "        \n",
    "    elif loop_step <= max_retries:\n",
    "        print(\"--HALLUCINATION FOUND: RETRYING\")\n",
    "        return \"not supported\"\n",
    "    else:\n",
    "        print(\"--MAX RETRIES REACHED\")\n",
    "        return \"max retries\""
   ]
  },
  {
   "cell_type": "code",
   "execution_count": 13,
   "id": "6cacd2ec",
   "metadata": {},
   "outputs": [
    {
     "data": {
      "image/png": "[encoded data removed]",
      "text/plain": [
       "<IPython.core.display.Image object>"
      ]
     },
     "metadata": {},
     "output_type": "display_data"
    }
   ],
   "source": [
    "from langgraph.graph import StateGraph\n",
    "from IPython.display import Image, display\n",
    "\n",
    "workflow = StateGraph(GraphState)\n",
    "\n",
    "workflow.add_node(\"websearch\", web_search)\n",
    "workflow.add_node(\"retrieve\", retrieve)\n",
    "workflow.add_node(\"grade_documents\", grade_documents)\n",
    "workflow.add_node(\"generate\", generate)\n",
    "\n",
    "workflow.set_conditional_entry_point(\n",
    "    route_question,\n",
    "    {\n",
    "        \"websearch\": \"websearch\",\n",
    "        \"vectorstore\": \"retrieve\"\n",
    "    }\n",
    ")\n",
    "\n",
    "workflow.add_edge(\"websearch\", \"generate\")\n",
    "workflow.add_edge(\"retrieve\", \"grade_documents\")\n",
    "workflow.add_conditional_edges(\n",
    "    \"grade_documents\",\n",
    "    decide_to_generate,\n",
    "    {\n",
    "        \"websearch\": \"websearch\",\n",
    "        \"generate\": \"generate\"\n",
    "    }\n",
    ")\n",
    "\n",
    "workflow.add_conditional_edges(\n",
    "    \"generate\",\n",
    "    grade_generation_and_check_hallucinations,\n",
    "    {\n",
    "        \"not supported\": \"generate\",\n",
    "        \"useful\": END,\n",
    "        \"not useful\": \"websearch\",\n",
    "        \"max retries\": END\n",
    "    }\n",
    ")\n",
    "\n",
    "graph = workflow.compile()\n",
    "display(Image(graph.get_graph().draw_mermaid_png()))"
   ]
  },
  {
   "cell_type": "code",
   "execution_count": 14,
   "id": "2f12d88c",
   "metadata": {},
   "outputs": [],
   "source": [
    "# inputs = {\"question\": \"what is an agent\", \"max_retries\": 3}\n",
    "# output = graph.invoke(input=inputs)\n",
    "# print(output['generation'].content)"
   ]
  }
 ],
 "metadata": {
  "kernelspec": {
   "display_name": "venv",
   "language": "python",
   "name": "python3"
  },
  "language_info": {
   "codemirror_mode": {
    "name": "ipython",
    "version": 3
   },
   "file_extension": ".py",
   "mimetype": "text/x-python",
   "name": "python",
   "nbconvert_exporter": "python",
   "pygments_lexer": "ipython3",
   "version": "3.13.2"
  }
 },
 "nbformat": 4,
 "nbformat_minor": 5
}
